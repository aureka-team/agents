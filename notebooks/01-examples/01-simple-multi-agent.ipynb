{
 "cells": [
  {
   "cell_type": "code",
   "execution_count": null,
   "metadata": {},
   "outputs": [],
   "source": [
    "import uuid\n",
    "\n",
    "from rich.pretty import pprint\n",
    "from multi_agents.examples.simple_multi_agent import (\n",
    "    get_multi_agent,\n",
    "    StateSchema,\n",
    "    ConfigSchema,\n",
    ")"
   ]
  },
  {
   "cell_type": "code",
   "execution_count": null,
   "metadata": {},
   "outputs": [],
   "source": [
    "multi_agent = get_multi_agent()"
   ]
  },
  {
   "cell_type": "code",
   "execution_count": null,
   "metadata": {},
   "outputs": [],
   "source": [
    "multi_agent.compile()\n",
    "multi_agent.display_graph()"
   ]
  },
  {
   "cell_type": "code",
   "execution_count": null,
   "metadata": {},
   "outputs": [],
   "source": [
    "config = ConfigSchema(min_sentence_words=2)\n",
    "input_state = StateSchema(message=\"Hello world!\")\n",
    "state = await multi_agent.run(\n",
    "    input_state=input_state,\n",
    "    config=config,\n",
    "    thread_id=uuid.uuid4().hex,\n",
    ")\n",
    "\n",
    "pprint(state)"
   ]
  },
  {
   "cell_type": "code",
   "execution_count": null,
   "metadata": {},
   "outputs": [],
   "source": [
    "input_state = StateSchema(message=\"dog ma I am god\")\n",
    "state = await multi_agent.run(\n",
    "    input_state=input_state,\n",
    "    config=config,\n",
    "    thread_id=uuid.uuid4().hex,\n",
    ")\n",
    "\n",
    "pprint(state)"
   ]
  },
  {
   "cell_type": "code",
   "execution_count": null,
   "metadata": {},
   "outputs": [],
   "source": []
  }
 ],
 "metadata": {
  "kernelspec": {
   "display_name": "Python 3",
   "language": "python",
   "name": "python3"
  },
  "language_info": {
   "codemirror_mode": {
    "name": "ipython",
    "version": 3
   },
   "file_extension": ".py",
   "mimetype": "text/x-python",
   "name": "python",
   "nbconvert_exporter": "python",
   "pygments_lexer": "ipython3",
   "version": "3.12.3"
  }
 },
 "nbformat": 4,
 "nbformat_minor": 2
}
